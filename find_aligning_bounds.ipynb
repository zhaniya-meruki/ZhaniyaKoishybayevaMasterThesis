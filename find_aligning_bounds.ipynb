from IPython.display import Image, display
from glob import glob

for num in range(1, 650):
    if num == 504 or num==390:
        continue   
    num = str(num)
    listofImageNames = glob('/raid/zhaniya_koishybayeva/Lip2Wav_thesis/Dataset/zhanat/preprocessed/session_'+num+'/rgb_frames/0.jpg', recursive=True)
    imageName = listofImageNames[0]
    display(Image(filename=imageName))
    print(imageName)
